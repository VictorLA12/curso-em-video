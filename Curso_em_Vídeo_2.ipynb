{
  "nbformat": 4,
  "nbformat_minor": 0,
  "metadata": {
    "colab": {
      "provenance": [],
      "authorship_tag": "ABX9TyMdhFmfhc2VVcRCWS9n+Q03",
      "include_colab_link": true
    },
    "kernelspec": {
      "name": "python3",
      "display_name": "Python 3"
    },
    "language_info": {
      "name": "python"
    }
  },
  "cells": [
    {
      "cell_type": "markdown",
      "metadata": {
        "id": "view-in-github",
        "colab_type": "text"
      },
      "source": [
        "<a href=\"https://colab.research.google.com/github/VictorLA12/curso-em-video/blob/main/Curso_em_V%C3%ADdeo_2.ipynb\" target=\"_parent\"><img src=\"https://colab.research.google.com/assets/colab-badge.svg\" alt=\"Open In Colab\"/></a>"
      ]
    },
    {
      "cell_type": "code",
      "execution_count": null,
      "metadata": {
        "colab": {
          "base_uri": "https://localhost:8080/"
        },
        "id": "4cb8dvahD_tS",
        "outputId": "53655e7b-556d-49a4-cfea-693949961cb4"
      },
      "outputs": [
        {
          "output_type": "stream",
          "name": "stdout",
          "text": [
            "Primeiro valor:2\n",
            "Segundo valor:5\n",
            "O que vc deseja fazer com esses números?\n",
            "    [1] Somar\n",
            "    [2] Multiplicar\n",
            "    [3] Saber qual é maior\n",
            "    [4] Trocar de números\n",
            "    [5] Sair\n",
            "    >>>>> Selecione a opção desejada:4\n",
            "Primeiro valor:7\n",
            "Segundo valor:9\n",
            "O que vc deseja fazer com esses números?\n",
            "    [1] Somar\n",
            "    [2] Multiplicar\n",
            "    [3] Saber qual é maior\n",
            "    [4] Trocar de números\n",
            "    [5] Sair\n",
            "    >>>>> Selecione a opção desejada:3\n",
            "O maior número entre 7.0 e 9.0 é 9.0.\n",
            "O que vc deseja fazer com esses números?\n",
            "    [1] Somar\n",
            "    [2] Multiplicar\n",
            "    [3] Saber qual é maior\n",
            "    [4] Trocar de números\n",
            "    [5] Sair\n",
            "    >>>>> Selecione a opção desejada:5\n",
            "Finalizando...\n",
            "Fim do programa. Volte sempre!\n"
          ]
        }
      ],
      "source": [
        "#OPÇÕES NUMÉRICAS\n",
        "n1 = float(input('Primeiro valor:'))\n",
        "n2 = float(input('Segundo valor:'))\n",
        "o = 0\n",
        "r = 0\n",
        "while o != 5:\n",
        "    o = int(input('''O que vc deseja fazer com esses números?\n",
        "    [1] Somar\n",
        "    [2] Multiplicar\n",
        "    [3] Saber qual é maior\n",
        "    [4] Trocar de números\n",
        "    [5] Sair\n",
        "    >>>>> Selecione a opção desejada:'''))\n",
        "    if o == 1:\n",
        "        r = n1+n2\n",
        "        print('A Soma entre {} e {} é {}.'.format(n1,n2,r))\n",
        "    elif o == 2:\n",
        "        r = n1*n2\n",
        "        print('O produto entre {} e {} é {}.'.format(n1,n2,r))\n",
        "    elif o == 3:\n",
        "        if n1>n2:\n",
        "            r = n1\n",
        "            print('O maior número entre {} e {} é {}.'.format(n1,n2,r))\n",
        "        else:\n",
        "            r = n2\n",
        "            print('O maior número entre {} e {} é {}.'.format(n1,n2,r))\n",
        "    elif o == 4:\n",
        "        n1 = float(input('Primeiro valor:'))\n",
        "        n2 = float(input('Segundo valor:'))\n",
        "    elif o == 5:\n",
        "        print('Finalizando...')\n",
        "    else:\n",
        "        print('Opção Inválida. Tente novamente.')\n",
        "print('Fim do programa. Volte sempre!')"
      ]
    },
    {
      "cell_type": "code",
      "source": [
        "#CADASTRO DE PESSOAS COM FILTRO\n",
        "h = 0\n",
        "m20 = 0\n",
        "m18 = 0\n",
        "r = 0\n",
        "while r != 'N':\n",
        "    S = str(input('Qual o seu sexo? M ou F?')).upper()[0]\n",
        "    if S =='M':\n",
        "        h += 1\n",
        "        I = int(input('Qual a sua idade?'))\n",
        "        if I>17:\n",
        "            m18 += 1\n",
        "        else:\n",
        "            m18 = m18\n",
        "    else:\n",
        "        I = int(input('Qual a sua idade?'))\n",
        "        if (I>17):\n",
        "            m18 += 1\n",
        "        else:\n",
        "            m18 = m18\n",
        "        if (I>19):\n",
        "            m20 = m20\n",
        "        else:\n",
        "            m20 = m20 + 1\n",
        "    r = str(input('Quer continuar? [S/N]')).upper()[0]\n",
        "print(f'Há {m18} pessoas maiores de 18 anos, {h} homens e {m20} mulheres menores de 20 anos.')\n"
      ],
      "metadata": {
        "id": "jdjmKLV5EcbH",
        "colab": {
          "base_uri": "https://localhost:8080/"
        },
        "outputId": "19cc0f20-f96c-4f98-f2a2-d1ba2c1444ab"
      },
      "execution_count": null,
      "outputs": [
        {
          "output_type": "stream",
          "name": "stdout",
          "text": [
            "Qual o seu sexo? M ou F?M\n",
            "Qual a sua idade?23\n",
            "Quer continuar? [S/N]S\n",
            "Qual o seu sexo? M ou F?F\n",
            "Qual a sua idade?12\n",
            "Quer continuar? [S/N]S\n",
            "Qual o seu sexo? M ou F?F\n",
            "Qual a sua idade?53\n",
            "Quer continuar? [S/N]N\n",
            "Há 2 pessoas maiores de 18 anos, 1 homens e 1 mulheres menores de 20 anos.\n"
          ]
        }
      ]
    },
    {
      "cell_type": "code",
      "source": [
        "#PA\n",
        "a1 = int(input('Digite o primeiro termo da sua PA:'))\n",
        "r = int(input('Digite a razão da PA:'))\n",
        "n = int(input('Digite o número de termos que quer mostrar:'))\n",
        "s = 0\n",
        "print('Os {} primeiros termos da sua PA são:'.format(n))\n",
        "for c in range(a1, a1 + n*r, r):\n",
        "    s += c\n",
        "    print(c)\n",
        "print('O somatório dos {} primeiros termos da sua PA é: {}'.format(n,s))\n",
        "q = int(input('Voce quer mostrar mais quantos termos?'))\n",
        "while q != 0:\n",
        "    for c in range(a1 + n*r, a1 + n*r + q*r, r ):\n",
        "        s += c\n",
        "        print(c)\n",
        "    n = n + q\n",
        "    print('O somatório dos {} primeiros termos da sua PA é: {}'.format(n,s))\n",
        "    q = int(input('Voce quer mostrar mais quantos termos?'))\n"
      ],
      "metadata": {
        "id": "hv2DOxxxzsTz"
      },
      "execution_count": null,
      "outputs": []
    },
    {
      "cell_type": "code",
      "source": [
        "#MONTAGEM DE LISTA SEM VALORES REPETIDOS\n",
        "num = list()\n",
        "r = \"S\"\n",
        "num.append(int(input('Digite um valor:')))\n",
        "r = str(input('Quer continuar a cadastrar valores? S/N')).upper()\n",
        "while r == \"S\":\n",
        "    v = (int(input('Digite um valor:')))\n",
        "    if v not in num:\n",
        "        num.append(v)\n",
        "    else:\n",
        "        print('Número repetido! Não salvarei.')\n",
        "    r = str(input('Quer continuar a cadastrar valores? S/N')).upper()\n",
        "num.sort()\n",
        "print(num)"
      ],
      "metadata": {
        "id": "4ISaTj9l0C7Z"
      },
      "execution_count": null,
      "outputs": []
    },
    {
      "cell_type": "code",
      "source": [
        "#CADASTRO DE ALUNOS E NOTAS\n",
        "Sistacad = {}\n",
        "Sistacad['Nome'] = str(input('Nome do aluno:'))\n",
        "Sistacad['Nota'] = float(input('Nota do aluno:'))\n",
        "if Sistacad['Nota'] >= 7:\n",
        "    Sistacad['Situação'] = 'Aprovado'\n",
        "else:\n",
        "    Sistacad['Situação'] = 'Reprovado'\n",
        "for k, v in Sistacad.items():\n",
        "    print(f'{k} = {v}')\n"
      ],
      "metadata": {
        "colab": {
          "base_uri": "https://localhost:8080/"
        },
        "id": "mUCohn5c8gUv",
        "outputId": "5ba5457e-f932-42bf-d066-206bb4b2a544"
      },
      "execution_count": null,
      "outputs": [
        {
          "output_type": "stream",
          "name": "stdout",
          "text": [
            "Nome do aluno:IVAN\n",
            "Nota do aluno:6\n",
            "Nome = IVAN\n",
            "Nota = 6.0\n",
            "Situação = Reprovado\n"
          ]
        }
      ]
    },
    {
      "cell_type": "code",
      "source": [
        "#EXPRESSÃO CORRETA?\n",
        "exp = str(input('Digite sua expressão:'))\n",
        "pa = 0\n",
        "pf = 0\n",
        "for símb in exp:\n",
        "    if símb == '(':\n",
        "        pa += 1\n",
        "    if símb == ')':\n",
        "        pf += 1\n",
        "if pa == pf:\n",
        "    print('A expressão está correta.')\n",
        "else:\n",
        "    print('A expressão está incorreta.')\n"
      ],
      "metadata": {
        "colab": {
          "base_uri": "https://localhost:8080/"
        },
        "id": "p29utr0484PS",
        "outputId": "f1a29347-d9ac-4be7-e96f-bcd954501bf7"
      },
      "execution_count": null,
      "outputs": [
        {
          "output_type": "stream",
          "name": "stdout",
          "text": [
            "Digite sua expressão:3+4.(34\n",
            "A expressão está incorreta.\n"
          ]
        }
      ]
    },
    {
      "cell_type": "code",
      "source": [
        "#MONTAGEM E ANÁLISE DE LISTA EM FORMA DE MATRIZ\n",
        "linha1 = list()\n",
        "linha2 = list()\n",
        "linha3 = list()\n",
        "par = 0\n",
        "a11 = int(input('Digite um valor para a posição a11:'))\n",
        "linha1.append(a11)\n",
        "if a11%2 == 0:\n",
        "    par += a11\n",
        "a12 = int(input('Digite um valor para a posição a12:'))\n",
        "linha1.append(a12)\n",
        "if a12%2 == 0:\n",
        "    par += a12\n",
        "a13 = int(input('Digite um valor para a posição a13:'))\n",
        "linha1.append(a13)\n",
        "if a13%2 == 0:\n",
        "    par += a13\n",
        "a21 = int(input('Digite um valor para a posição a21:'))\n",
        "linha2.append(a21)\n",
        "if a21%2 == 0:\n",
        "    par += a21\n",
        "a22 = int(input('Digite um valor para a posição a22:'))\n",
        "linha2.append(a22)\n",
        "if a22%2 == 0:\n",
        "    par += a22\n",
        "a23 = int(input('Digite um valor para a posição a23:'))\n",
        "linha2.append(a23)\n",
        "if a23%2 == 0:\n",
        "    par += a23\n",
        "a31 = int(input('Digite um valor para a posição a31:'))\n",
        "linha3.append(a31)\n",
        "if a31%2 == 0:\n",
        "    par += a31\n",
        "a32 = int(input('Digite um valor para a posição a32:'))\n",
        "linha3.append(a32)\n",
        "if a32%2 == 0:\n",
        "    par += a32\n",
        "a33 = int(input('Digite um valor para a posição a33:'))\n",
        "linha3.append(a33)\n",
        "if a33%2 == 0:\n",
        "    par += a33\n",
        "c3 = a13 + a23 + a33\n",
        "print()\n",
        "print(linha1)\n",
        "print(linha2)\n",
        "print(linha3)\n",
        "linha2.sort()\n",
        "print(f'A soma dos valores pares é {par}.')\n",
        "print(f'O maior número da segunda linha é {linha2[2]}.')\n",
        "print(f'A soma dos números da terceira coluna é: {c3}.')\n"
      ],
      "metadata": {
        "colab": {
          "base_uri": "https://localhost:8080/"
        },
        "id": "XV-2uHXa9Hwj",
        "outputId": "850c8160-05d4-4e11-b0d6-92595e8cc6de"
      },
      "execution_count": null,
      "outputs": [
        {
          "output_type": "stream",
          "name": "stdout",
          "text": [
            "Digite um valor para a posição a11:2\n",
            "Digite um valor para a posição a12:3\n",
            "Digite um valor para a posição a13:6\n",
            "Digite um valor para a posição a21:11\n",
            "Digite um valor para a posição a22:-9\n",
            "Digite um valor para a posição a23:0\n",
            "Digite um valor para a posição a31:5\n",
            "Digite um valor para a posição a32:-7\n",
            "Digite um valor para a posição a33:1\n",
            "\n",
            "[2, 3, 6]\n",
            "[11, -9, 0]\n",
            "[5, -7, 1]\n",
            "A soma dos valores pares é 8.\n",
            "O maior número da segunda linha é 11.\n",
            "A soma dos números da terceira coluna é: 7.\n"
          ]
        }
      ]
    },
    {
      "cell_type": "code",
      "source": [
        "#SORTEIO COM RANKING\n",
        "import random\n",
        "from time import sleep\n",
        "from operator import itemgetter\n",
        "números = [1,2,3,4,5,6]\n",
        "ranking = []\n",
        "jogos = {'Josafar': random.choice(números),\n",
        "         'Jurandir': random.choice(números),\n",
        "         'Judith': random.choice(números),\n",
        "         'Juraci': random.choice(números)}\n",
        "for k, v in jogos.items():\n",
        "    print(f'{k} tirou {v}.')\n",
        "    sleep(1)\n",
        "ranking = sorted(jogos.items(), key=itemgetter(1), reverse=True)\n",
        "print()\n",
        "print('***RESULTADO***')\n",
        "for i, v in enumerate(ranking):\n",
        "    print(f'{i+1}º lugar: {v}.')\n",
        "    sleep(1)\n"
      ],
      "metadata": {
        "colab": {
          "base_uri": "https://localhost:8080/"
        },
        "id": "xL2bEjDa97NH",
        "outputId": "10450386-e0d1-4ffd-a61d-83cfd1272980"
      },
      "execution_count": null,
      "outputs": [
        {
          "output_type": "stream",
          "name": "stdout",
          "text": [
            "Josafar tirou 1.\n",
            "Jurandir tirou 3.\n",
            "Judith tirou 1.\n",
            "Juraci tirou 3.\n",
            "\n",
            "***RESULTADO***\n",
            "1º lugar: ('Jurandir', 3).\n",
            "2º lugar: ('Juraci', 3).\n",
            "3º lugar: ('Josafar', 1).\n",
            "4º lugar: ('Judith', 1).\n"
          ]
        }
      ]
    },
    {
      "cell_type": "code",
      "source": [
        "#CÁLCULO DE APOSENTADORIA\n",
        "cadastro = {}\n",
        "cadastro['Nome'] = str(input('Nome:'))\n",
        "n = int(input('Digite o ano de nascimento:'))\n",
        "cadastro['Idade'] = 2021 - n\n",
        "cadastro['Carteira de trabalho'] = int(input('Nº da carteira de trabalho:'))\n",
        "if cadastro['Carteira de trabalho'] != 0:\n",
        "    cadastro['Ano de contratação'] = int(input('Ano de contratação:'))\n",
        "    cadastro['Salário'] = float(input('Digite o salário:'))\n",
        "    cadastro['Ano de aposentadoria'] = cadastro['Ano de contratação'] + 35\n",
        "    cadastro['Idade de aposentadoria'] = cadastro['Ano de aposentadoria'] - n\n",
        "    for k, v in cadastro.items():\n",
        "        print(f'{k} = {v}')\n",
        "else:\n",
        "    for k, v in cadastro.items():\n",
        "        print(f'{k} = {v}')\n"
      ],
      "metadata": {
        "colab": {
          "base_uri": "https://localhost:8080/"
        },
        "id": "VUDvte4H-gct",
        "outputId": "e2c35d4f-f4a9-4e45-b6e5-949ffadf77ac"
      },
      "execution_count": null,
      "outputs": [
        {
          "output_type": "stream",
          "name": "stdout",
          "text": [
            "Nome:ANA\n",
            "Digite o ano de nascimento:2000\n",
            "Nº da carteira de trabalho:1\n",
            "Ano de contratação:2018\n",
            "Digite o salário:1500\n",
            "Nome = ANA\n",
            "Idade = 21\n",
            "Carteira de trabalho = 1\n",
            "Ano de contratação = 2018\n",
            "Salário = 1500.0\n",
            "Ano de aposentadoria = 2053\n",
            "Idade de aposentadoria = 53\n"
          ]
        }
      ]
    },
    {
      "cell_type": "code",
      "source": [
        "#DEF VOTO\n",
        "def voto(a=0):\n",
        "    from datetime import date\n",
        "    hoje = date.today().year\n",
        "    i = hoje - a\n",
        "    if i < 16:\n",
        "        return f'NEGADO! Você não pode votar.'\n",
        "    elif (i > 15 and i < 18) or (i > 65):\n",
        "        return f'FACULTATIVO. Você pode votar.'\n",
        "    else:\n",
        "        return f'OBRIGATÓRIO! Você TEM que votar.'\n",
        "\n",
        "\n",
        "a = int(input('Digite seu ano de nascimento:'))\n",
        "print(voto(a))"
      ],
      "metadata": {
        "id": "82tI_eR4-ptt"
      },
      "execution_count": null,
      "outputs": []
    },
    {
      "cell_type": "code",
      "source": [
        "#LEIA INT e LEIA FLOAT\n",
        "def leiaint(msg):\n",
        "    while True:\n",
        "        try:\n",
        "            n = int(input(msg))\n",
        "        except (ValueError, TypeError):\n",
        "            print('Erro! Digite um número inteiro válido.')\n",
        "            continue\n",
        "        else:\n",
        "            return n\n",
        "\n",
        "\n",
        "num = leiaint('Digite um número inteiro: ')\n",
        "print(f'Você digitou o número {num}.')\n",
        "\n",
        "\n",
        "def leiafloat(msg):\n",
        "    while True:\n",
        "        try:\n",
        "            n = float(input(msg))\n",
        "        except (ValueError, TypeError):\n",
        "            print('Erro! Digite um número real válido.')\n",
        "            continue\n",
        "        else:\n",
        "            return n\n",
        "\n",
        "\n",
        "num = leiafloat('Digite um número real: ')\n",
        "print(f'Você digitou o número {num}.')\n"
      ],
      "metadata": {
        "colab": {
          "base_uri": "https://localhost:8080/"
        },
        "id": "e3ADIDAyCgLF",
        "outputId": "756cda0b-2afd-4af9-95be-32d39e3f18bd"
      },
      "execution_count": null,
      "outputs": [
        {
          "output_type": "stream",
          "name": "stdout",
          "text": [
            "Digite um número inteiro: 2.5\n",
            "Erro! Digite um número inteiro válido.\n",
            "Digite um número inteiro: 5.7\n",
            "Erro! Digite um número inteiro válido.\n",
            "Digite um número inteiro: 9\n",
            "Você digitou o número 9.\n",
            "Digite um número real: 2.5\n",
            "Você digitou o número 2.5.\n"
          ]
        }
      ]
    },
    {
      "cell_type": "code",
      "source": [
        "#TRATAMENTO DE ERRO\n",
        "try:\n",
        "    a = int(input('Digite o numerador:'))\n",
        "    b = int(input('Digite o denominador:'))\n",
        "    r = a/b\n",
        "except (ValueError, TypeError):\n",
        "    print('Fez merda aí mano. Digitou coisa errada.')\n",
        "except ZeroDivisionError:\n",
        "    print('Fez merda aí mano. Não existe divisão por zero.')\n",
        "else:\n",
        "    print(f'O resultado é {r:.2f}.')\n",
        "finally:\n",
        "    print('Blz show, volte sempre!')"
      ],
      "metadata": {
        "colab": {
          "base_uri": "https://localhost:8080/"
        },
        "id": "1pqH6zw6C0zd",
        "outputId": "3d30c406-41e7-4baf-acec-411b6b1b87e9"
      },
      "execution_count": null,
      "outputs": [
        {
          "output_type": "stream",
          "name": "stdout",
          "text": [
            "Digite o numerador:72\n",
            "Digite o denominador:0\n",
            "Fez merda aí mano. Não existe divisão por zero.\n",
            "Blz show, volte sempre!\n"
          ]
        }
      ]
    },
    {
      "cell_type": "code",
      "source": [],
      "metadata": {
        "id": "I9qu77SRDJpB"
      },
      "execution_count": null,
      "outputs": []
    }
  ]
}