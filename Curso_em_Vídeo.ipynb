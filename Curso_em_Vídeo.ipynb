{
  "nbformat": 4,
  "nbformat_minor": 0,
  "metadata": {
    "colab": {
      "provenance": [],
      "authorship_tag": "ABX9TyOir1gnUeM2vnpJVFCrKsm1",
      "include_colab_link": true
    },
    "kernelspec": {
      "name": "python3",
      "display_name": "Python 3"
    },
    "language_info": {
      "name": "python"
    }
  },
  "cells": [
    {
      "cell_type": "markdown",
      "metadata": {
        "id": "view-in-github",
        "colab_type": "text"
      },
      "source": [
        "<a href=\"https://colab.research.google.com/github/VictorLA12/curso-em-video/blob/main/Curso_em_V%C3%ADdeo.ipynb\" target=\"_parent\"><img src=\"https://colab.research.google.com/assets/colab-badge.svg\" alt=\"Open In Colab\"/></a>"
      ]
    },
    {
      "cell_type": "code",
      "execution_count": null,
      "metadata": {
        "id": "GZCogKdiIlrs"
      },
      "outputs": [],
      "source": [
        "#IDENTIFICAR UM COMANDO\n",
        "n = input ('Digite algo:')\n",
        "print(type(n))\n",
        "print('Ele é alfabético?', n.isalpha())\n",
        "print('Ele é numérico?', n.isnumeric())\n",
        "print('Ele é alfanumérico?', n.isalnum())\n",
        "print('Ele é um dígito?', n.isdigit())\n",
        "print('Ele é um número decimal?', n.isdecimal())\n",
        "print('Ele está escrito todo em letras minúsculas?', n.islower())\n",
        "print('Ele é imprimível?', n.isprintable())\n",
        "print('Ele é identificável?', n.isidentifier())\n",
        "print('Ele é um espaço?', n.isspace())\n",
        "print('Ele está todo escrito com letras maiúsculas?', n.isupper())\n",
        "print('FIM')\n"
      ]
    },
    {
      "cell_type": "markdown",
      "source": [
        "raiz = **1/2 ou sqrt(precisa importar);\n",
        "divisão exata é //; resto da divisão é %;\n",
        "parte inteira é 'floor'\n"
      ],
      "metadata": {
        "id": "F1kyPQlbRflb"
      }
    },
    {
      "cell_type": "markdown",
      "source": [
        ".split = separa\n",
        ".strip = elimina os espaços;\n",
        ".lower = tudo em minúscula\n",
        ".upper = tudo em maiúscula\n",
        ".find = procura uma palavra na string"
      ],
      "metadata": {
        "id": "ZymYFCoiTSGa"
      }
    },
    {
      "cell_type": "code",
      "source": [
        "#SELECIONR UM NOME NUMA LISTA\n",
        "import random\n",
        "a1 = str(input('Digite o nome do primeiro aluno:'))\n",
        "a2 = str(input('Digite o nome do segundo aluno:'))\n",
        "a3 = str(input('Digite o nome do terceiro aluno:'))\n",
        "a4 = str(input('Digite o nome do quarto aluno:'))\n",
        "lista = [a1, a2, a3, a4]\n",
        "name = random.choice(lista)\n",
        "print ('O aluno escolhido é: {}'.format(name))\n"
      ],
      "metadata": {
        "id": "dcFPNpIbSzmr"
      },
      "execution_count": null,
      "outputs": []
    },
    {
      "cell_type": "code",
      "source": [
        "#ORDEM ALEATÓRIA EM TODA UMA LISTA\n",
        "import random\n",
        "a1 = str(input('Primeiro aluno:'))\n",
        "a2 = str(input('Segundo aluno:'))\n",
        "a3 = str(input('Terceiro aluno:'))\n",
        "a4 = str (input('Quarto aluno:'))\n",
        "lista = [a1, a2, a3, a4]\n",
        "random.shuffle(lista)\n",
        "print('A ordem escolhida é:')\n",
        "print(lista)\n"
      ],
      "metadata": {
        "id": "PZPQ_FEmUqxV"
      },
      "execution_count": null,
      "outputs": []
    },
    {
      "cell_type": "code",
      "source": [
        "nome = str(input('Qual é o seu nome?'))\n",
        "if nome == 'Victor':\n",
        "    print('Que nome lindo vc tem!')\n",
        "    r = str(input('Vc é o Victão?'))\n",
        "    if r == 'Sim':\n",
        "        print('Vc é um barbudo lindo e gostoso, me possua!')\n",
        "print('É um prazer te conhecer {}!'. format(nome))\n"
      ],
      "metadata": {
        "colab": {
          "base_uri": "https://localhost:8080/"
        },
        "id": "u4nyjBqtRldO",
        "outputId": "cd5ce82e-32db-4982-fd1e-e6ef2b6c2606"
      },
      "execution_count": null,
      "outputs": [
        {
          "output_type": "stream",
          "name": "stdout",
          "text": [
            "Qual é o seu nome?Victor\n",
            "Que nome lindo vc tem!\n",
            "Vc é o Victão?Sim\n",
            "Vc é um barbudo lindo e gostoso, me possua!\n",
            "É um prazer te conhecer Victor!\n"
          ]
        }
      ]
    },
    {
      "cell_type": "code",
      "source": [
        "#ENCONTRAR A QUANTIDADE DE LETRAS IGUAIS NUMA FRASE\n",
        "frase = input('Digite uma frase:')\n",
        "q = (frase.count('a'))\n",
        "p = (frase.lower().find('a'))\n",
        "u = (frase.lower().rfind('a'))\n",
        "print('A letra A aparece', q, 'vezes.')\n",
        "print('O primeiro A está na posição', p)\n",
        "print('O último A está na posição', u)"
      ],
      "metadata": {
        "colab": {
          "base_uri": "https://localhost:8080/"
        },
        "id": "8UcASuMxUKQc",
        "outputId": "60948f2f-73ee-4d44-e5cd-d57f42c3877e"
      },
      "execution_count": null,
      "outputs": [
        {
          "output_type": "stream",
          "name": "stdout",
          "text": [
            "Digite uma frase:amanha nao se sabe\n",
            "A letra A aparece 5 vezes.\n",
            "O primeiro A está na posição 0\n",
            "O último A está na posição 15\n"
          ]
        }
      ]
    },
    {
      "cell_type": "code",
      "source": [
        "#LER O NOME COMPLETO E ABREVIAR PARA O PRIMEIRO E ÚLTIMO\n",
        "nome = input('Digite seu nome:')\n",
        "s = nome.split()\n",
        "n = (len(nome.split()))\n",
        "print(s[0], s[n-1])\n"
      ],
      "metadata": {
        "colab": {
          "base_uri": "https://localhost:8080/"
        },
        "id": "mLDpG7WSWsIY",
        "outputId": "f0578f97-5490-4ef2-e4a5-2802f0129308"
      },
      "execution_count": null,
      "outputs": [
        {
          "output_type": "stream",
          "name": "stdout",
          "text": [
            "Digite seu nome:AMANDA CRISTINA FLAUZINO PIRES\n",
            "AMANDA PIRES\n"
          ]
        }
      ]
    },
    {
      "cell_type": "code",
      "source": [
        "#JOGUINHO DE ADIVINHAR O NÚMERO\n",
        "import random\n",
        "lista = [0,1,2,3,4,5,6,7,8,9,10]\n",
        "c = 1\n",
        "n = random.choice(lista)\n",
        "r = int(input('Em qual número de 0 a 10 eu estou pensando?'))\n",
        "while n != r:\n",
        "    c = c+1\n",
        "    print('Errrroooooou.')\n",
        "    r = int(input('Em qual número de 0 a 10 eu estou pensando?'))\n",
        "print(f'Até que enfim né ti! Também, com {c} chances qualquer um acerta.')\n"
      ],
      "metadata": {
        "id": "dIUsDvelXEwj"
      },
      "execution_count": null,
      "outputs": []
    },
    {
      "cell_type": "code",
      "source": [
        "#SIMULAÇÃO DE EMPRÉSTIMO\n",
        "from math import floor\n",
        "v = int(input('Qual o valor do empréstimo?'))\n",
        "s = float(input('Qual o valor do seu salário?'))\n",
        "a = int(input('Qual o tempo em anos?'))\n",
        "t = a*12\n",
        "p = 0.3*s\n",
        "if a<10:\n",
        "    m = v*(1.05**a)\n",
        "elif 10<a<20:\n",
        "    m = v*(1.042**a)\n",
        "else:\n",
        "    m = v*(1.035**a)\n",
        "p1 = m/t\n",
        "m1 = p*t\n",
        "n = m/p1\n",
        "i = floor(n)\n",
        "print('Valor total: R${:.2f}'.format(m))\n",
        "print('Valor máximo de parcela: R${:.2f}'. format(p))\n",
        "if m1<m:\n",
        "    print('Infelizmente sua solicitação de empréstimo foi negada.')\n",
        "else:\n",
        "    print('PARABÉNS! Sua solicitação foi concedida.')\n",
        "    print('Voce irá pagar {} parcelas no valor de R${:.2f}'.format(i,p1))"
      ],
      "metadata": {
        "id": "K6w0_ybeYCyQ"
      },
      "execution_count": null,
      "outputs": []
    },
    {
      "cell_type": "code",
      "source": [
        "#CONVERSOR DE BASES\n",
        "n = int(input('Digite um número:'))\n",
        "print('''Escolha uma das base de conversão:\n",
        "[ 1 ] para BINÁRIO\n",
        "[ 2 ] para OCTAL\n",
        "[ 3 ] para HEXADECIMAL''')\n",
        "o = int(input('Sua opção:'))\n",
        "if o == 1:\n",
        "    print(f'{n} na base binária é igual a {bin(n)}.')\n",
        "elif o == 2:\n",
        "    print(f'{n} na base octal é igual a {oct(n)}.')\n",
        "elif o == 3:\n",
        "    print(f'{n} na base hexadecimal é igual a {hex(n)}.')\n",
        "else:\n",
        "    print('ERRO! Escolha uma opção válida.')"
      ],
      "metadata": {
        "colab": {
          "base_uri": "https://localhost:8080/"
        },
        "id": "PQBRYEpqYhUo",
        "outputId": "c58be333-038f-4f0b-c171-ac2649adb5ce"
      },
      "execution_count": null,
      "outputs": [
        {
          "output_type": "stream",
          "name": "stdout",
          "text": [
            "Digite um número:111\n",
            "Escolha uma das base de conversão:\n",
            "[ 1 ] para BINÁRIO\n",
            "[ 2 ] para OCTAL\n",
            "[ 3 ] para HEXADECIMAL\n",
            "Sua opção:3\n",
            "111 na base hexadecimal é igual a 0x6f.\n"
          ]
        }
      ]
    },
    {
      "cell_type": "code",
      "source": [
        "#VERIFICAÇÃO DE ALISTAMENTO MILITAR POR IDADE\n",
        "n = int(input('Digite seu ano de nascimento:'))\n",
        "a = n + 18\n",
        "x = 2021 - a\n",
        "if a>2021:\n",
        "    print(f'Seu alistamento será 01 de Janeiro à 30 de Abril de {a}.')\n",
        "elif a == 2021:\n",
        "    print('Você deveria ter se alistado esse ano. Você se alistou?')\n",
        "    r = str(input('Sim ou Não?'))\n",
        "    if r == 'Sim':\n",
        "        print('Muito Bem. Você está em dia com seu alistamento.')\n",
        "    else:\n",
        "        print('ALERTA!!! Você está mais de 100 dias atrasado com o serviço militar.')\n",
        "else:\n",
        "    print('Você já deveria ter se alistado. Se alistou?')\n",
        "    r1 = str(input('Sim ou Não?'))\n",
        "    if r1 == 'Sim':\n",
        "        print('Serviu?')\n",
        "        r2 = str(input('Sim ou Não?'))\n",
        "        if r2 == 'Sim':\n",
        "            print('BOA ZEROMEIA!!!')\n",
        "        else:\n",
        "            print('Ficou peladão com os caras pelo menos?')\n",
        "            r3 = str(input('Sim ou Não?'))\n",
        "            if r3 == 'Sim':\n",
        "                print('MANJA ROLA!')\n",
        "            else:\n",
        "                print('Mentiroso!')\n",
        "    else:\n",
        "        print(f'ALERTA!!! Você está pelo menos {x} anos atrasado com o serviço militar.')\n"
      ],
      "metadata": {
        "id": "pxPxbS7CZjE_"
      },
      "execution_count": null,
      "outputs": []
    },
    {
      "cell_type": "code",
      "source": [
        "#REGRA DOS TRIÂNGULOS\n",
        "from math import sqrt\n",
        "a = float(input('Digite uma medida:'))\n",
        "b = float(input('Digite outra medida:'))\n",
        "c = float(input('Digite mais uma medida:'))\n",
        "ar = sqrt((b**2 + c**2))\n",
        "br = sqrt((a**2 + c**2))\n",
        "cr = sqrt((b**2 + a**2))\n",
        "if a>(b+c) or b>(a+c) or c>(a+b):\n",
        "    print ('Essas medidas não podem formar um triângulo.')\n",
        "if a == ar or b == br or c == cr:\n",
        "    print ('Essas medidas formam um triângulo retângulo.')\n",
        "if a == b == c:\n",
        "    print ('Essas medidas formam um triângulo equilátero.')\n",
        "if (a == b and a != c) or (a == c and a!=b) or (b == c and b!=a):\n",
        "    print ('Essas medidas formam um triângulo isósceles.')\n",
        "if a!=b and b!=c and a!=c:\n",
        "    print('Essas medidas formam um triângulo escaleno.')"
      ],
      "metadata": {
        "colab": {
          "base_uri": "https://localhost:8080/"
        },
        "id": "twUcEilgbvIu",
        "outputId": "7fb5a1dc-f260-4094-9a1e-f63987f3cc38"
      },
      "execution_count": null,
      "outputs": [
        {
          "output_type": "stream",
          "name": "stdout",
          "text": [
            "Digite uma medida:5\n",
            "Digite outra medida:4\n",
            "Digite mais uma medida:3\n",
            "Essas medidas formam um triângulo retângulo.\n",
            "Essas medidas formam um triângulo escaleno.\n"
          ]
        }
      ]
    },
    {
      "cell_type": "code",
      "source": [
        "#CONTAGEM REGRESSIVA\n",
        "import time\n",
        "for c in range(10, 0, -1):\n",
        "    print(c)\n",
        "    time.sleep(1)\n",
        "print('FELIZ ANO NOVO!!!')"
      ],
      "metadata": {
        "colab": {
          "base_uri": "https://localhost:8080/"
        },
        "id": "cIfxxDzQctJQ",
        "outputId": "c90b32e0-04b3-4386-a9e0-0f0cb9e2ac22"
      },
      "execution_count": null,
      "outputs": [
        {
          "output_type": "stream",
          "name": "stdout",
          "text": [
            "10\n",
            "9\n",
            "8\n",
            "7\n",
            "6\n",
            "5\n",
            "4\n",
            "3\n",
            "2\n",
            "1\n",
            "FELIZ ANO NOVO!!!\n"
          ]
        }
      ]
    },
    {
      "cell_type": "code",
      "source": [
        "#VERIFICAR SE UM NÚMERO É PRIMO\n",
        "n = int(input('Digite um número:'))\n",
        "s = 0\n",
        "for c in range(2, n+1):\n",
        "    if (n // c) == (n/c):\n",
        "        s = s+1\n",
        "    else:\n",
        "        s = s\n",
        "if s == 1:\n",
        "    print('O número {} é primo.'.format(n))\n",
        "else:\n",
        "    print('O número {} NÃO é primo.'.format(n))"
      ],
      "metadata": {
        "colab": {
          "base_uri": "https://localhost:8080/"
        },
        "id": "OCsrIXsudzNN",
        "outputId": "ed5197db-79bb-4ed9-e52b-37c21fa476fb"
      },
      "execution_count": null,
      "outputs": [
        {
          "output_type": "stream",
          "name": "stdout",
          "text": [
            "Digite um número:11\n",
            "O número 11 é primo.\n"
          ]
        }
      ]
    },
    {
      "cell_type": "code",
      "source": [
        "#VERIFICAR SE É PALÍNDROMO\n",
        "frase = str(input('Digite uma frase:'))\n",
        "f1 = frase.split()\n",
        "f2 = ''.join(f1)\n",
        "n = int(len(f2))\n",
        "palindromo = bool\n",
        "for i in range(0, n):\n",
        "    if f2[i]==f2[n-1-i]:\n",
        "        palindromo = True\n",
        "    else:\n",
        "        palindromo = False\n",
        "        break\n",
        "if palindromo == True:\n",
        "    print('É Palíndromo.')\n",
        "else:\n",
        "    print('Não é Palíndromo')\n"
      ],
      "metadata": {
        "id": "r1aGxZjSgIoz"
      },
      "execution_count": null,
      "outputs": []
    }
  ]
}